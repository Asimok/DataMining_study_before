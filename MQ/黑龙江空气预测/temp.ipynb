{
 "cells": [
  {
   "cell_type": "code",
   "execution_count": null,
   "metadata": {
    "collapsed": true
   },
   "outputs": [],
   "source": [
    "import pandas as pd\n",
    "\n",
    "from MQ.黑龙江空气预测.tool import set_AQI\n",
    "\n",
    "data = pd.read_excel('./data/shuju.xlsx')\n",
    "AQI = list(data['AQI'])\n",
    "quality = list(data['质量等级'])\n",
    "for i in range(AQI.__len__()):\n",
    "    quality[i] = set_AQI(AQI[i])\n",
    "quality = pd.DataFrame({'质量等级': quality})\n",
    "data['质量等级'] = quality\n",
    "data.to_excel('./data/new.xlsx')\n",
    "\n"
   ]
  }
 ],
 "metadata": {
  "kernelspec": {
   "display_name": "Python 3",
   "language": "python",
   "name": "python3"
  },
  "language_info": {
   "codemirror_mode": {
    "name": "ipython",
    "version": 2
   },
   "file_extension": ".py",
   "mimetype": "text/x-python",
   "name": "python",
   "nbconvert_exporter": "python",
   "pygments_lexer": "ipython2",
   "version": "2.7.6"
  }
 },
 "nbformat": 4,
 "nbformat_minor": 0
}